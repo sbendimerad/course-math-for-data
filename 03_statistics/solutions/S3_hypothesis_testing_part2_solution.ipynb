{
  "cells": [
    {
      "cell_type": "markdown",
      "metadata": {
        "id": "S2fE-2j3oEGt"
      },
      "source": [
        "![](https://upload.wikimedia.org/wikipedia/commons/thumb/8/87/Logo_Swile.svg/2560px-Logo_Swile.svg.png)"
      ]
    },
    {
      "cell_type": "markdown",
      "metadata": {
        "id": "N_LMGWMboEGu"
      },
      "source": [
        "## *\"The most useless card of the moment\"*\n",
        "\n",
        "## Time : 15 min\n",
        "\n",
        "[Swile](https://www.swile.co/en-FR) is a french company whose goal is to offer employee benefits via a payment card. The company was founded in 2017 and raised $70M Series C in 2020."
      ]
    },
    {
      "cell_type": "code",
      "execution_count": 1,
      "metadata": {
        "colab": {
          "base_uri": "https://localhost:8080/",
          "height": 521
        },
        "id": "PKMI2wXBoEGu",
        "outputId": "d8a7f0da-ce4d-4612-8cd1-f81e8f61b97f"
      },
      "outputs": [
        {
          "data": {
            "text/html": [
              "<video src=\"https://essentials-assets.s3.eu-west-3.amazonaws.com/M03-Python_programming_and_statistics/D02-A_B_testing_and_web_analytics/Swile_presentation.mp4\" controls  width=\"700\"  height=\"500\">\n",
              "      Your browser does not support the <code>video</code> element.\n",
              "    </video>"
            ],
            "text/plain": [
              "<IPython.core.display.Video object>"
            ]
          },
          "execution_count": 1,
          "metadata": {},
          "output_type": "execute_result"
        }
      ],
      "source": [
        "from IPython.display import Video\n",
        "Video(\n",
        "    \"https://essentials-assets.s3.eu-west-3.amazonaws.com/M03-Python_programming_and_statistics/D02-A_B_testing_and_web_analytics/Swile_presentation.mp4\",\n",
        "    width=700,\n",
        "    height=500\n",
        "    )"
      ]
    },
    {
      "cell_type": "markdown",
      "metadata": {
        "id": "uLY-mxLZoEGu"
      },
      "source": [
        "After raising this much money, COVID hit western world really hard and almost all countries were on lock-down putting Swile in a really hard position since no restaurants were opened.\n",
        "\n",
        "Instead of waiting for COVID to pass, they decided to launch a large marketing campaign called: *La carte la plus inutile du moment* (The most useless card of the moment). The goal was to get to sign new clients despite the tough situation.\n",
        "\n",
        "In almost every big city in France, we could see this kind of advertisement:\n",
        "\n",
        "![](https://essentials-assets.s3.eu-west-3.amazonaws.com/M03-Python_programming_and_statistics/D02-A_B_testing_and_web_analytics/swile_car.webp)"
      ]
    },
    {
      "cell_type": "markdown",
      "metadata": {
        "id": "n7C2etMZoEGu"
      },
      "source": [
        "Now that the marketing campaign is done, Swile would like to know whether this marketing campaign add an impact on sales!\n",
        "\n",
        "Swile provided you with some data about sales before the marketing campaign. Our goal will be to check whether this marketing campaign was a genius idea or a huge failure so that the company could replicate it abroad.\n",
        "\n",
        "This dataset describes the number of calls on the same day in France and abroad. The only difference between these two samples is the impact of Marketing campaign.\n",
        "\n",
        "Test whether the average number of calls in France is actually higher than the ones abroad."
      ]
    },
    {
      "cell_type": "markdown",
      "metadata": {
        "id": "yP0tHU0koEGu"
      },
      "source": [
        "## Step 1 - Import libraries\n",
        "\n",
        "<Note type = \"tip\">Remember to install any necessary libraries before importing them.</Note>"
      ]
    },
    {
      "cell_type": "code",
      "execution_count": 2,
      "metadata": {
        "id": "SxO1CetxoEGv"
      },
      "outputs": [],
      "source": [
        "import os\n",
        "import numpy as np\n",
        "import pandas as pd\n",
        "import matplotlib.pyplot as plt\n",
        "from scipy import stats\n",
        "\n",
        "# Display settings\n",
        "pd.set_option('display.float_format', lambda x: f\"{x:,.3f}\")"
      ]
    },
    {
      "cell_type": "markdown",
      "metadata": {
        "id": "_WZu0w3SoEGv"
      },
      "source": [
        "<Note type = \"tip\">\n",
        "The `stats` module from SciPy contains statistical tests, probability distributions, confidence intervals, etc. That’s what we use for t-tests, Shapiro tests, etc.\n",
        "\n",
        "`pd.set_option('display.float_format', lambda x: f\"{x:,.3f}\")` changes how Pandas prints numbers in DataFrames. By default, Pandas may show numbers like `5.785714285714286`. With this setting, numbers are shown as 3 decimals (e.g., 5.786). The `,` means it would also use thousands separators if needed (e.g., 12,345.678).\n",
        "</Note>"
      ]
    },
    {
      "cell_type": "markdown",
      "metadata": {
        "id": "jPkUsmMkoEGv"
      },
      "source": [
        "## Step 2 - Import Dataset\n",
        "\n",
        "We use `swile_sales_calls.csv` with two integer columns:\n",
        "\n",
        "- `calls_in_France`\n",
        "- `calls_abroad`\n",
        "\n",
        "Each row represents one observation.\n",
        "\n",
        "Now you need to import your dataset. Download `swile_sales_calls.csv` and load it in your notebook using `pandas`"
      ]
    },
    {
      "cell_type": "code",
      "execution_count": 3,
      "metadata": {
        "colab": {
          "base_uri": "https://localhost:8080/",
          "height": 206
        },
        "id": "uY5Gsn9GoEGv",
        "outputId": "2b4c3639-1d22-4025-fd84-f03311bca27d"
      },
      "outputs": [
        {
          "data": {
            "application/vnd.google.colaboratory.intrinsic+json": {
              "summary": "{\n  \"name\": \"df\",\n  \"rows\": 70,\n  \"fields\": [\n    {\n      \"column\": \"calls_abroad\",\n      \"properties\": {\n        \"dtype\": \"number\",\n        \"std\": 2,\n        \"min\": 1,\n        \"max\": 9,\n        \"num_unique_values\": 9,\n        \"samples\": [\n          5,\n          9,\n          3\n        ],\n        \"semantic_type\": \"\",\n        \"description\": \"\"\n      }\n    },\n    {\n      \"column\": \"calls_in_France\",\n      \"properties\": {\n        \"dtype\": \"number\",\n        \"std\": 2,\n        \"min\": 2,\n        \"max\": 9,\n        \"num_unique_values\": 8,\n        \"samples\": [\n          2,\n          4,\n          6\n        ],\n        \"semantic_type\": \"\",\n        \"description\": \"\"\n      }\n    }\n  ]\n}",
              "type": "dataframe",
              "variable_name": "df"
            },
            "text/html": [
              "\n",
              "  <div id=\"df-add6d029-0183-4c59-93ba-3d0561413088\" class=\"colab-df-container\">\n",
              "    <div>\n",
              "<style scoped>\n",
              "    .dataframe tbody tr th:only-of-type {\n",
              "        vertical-align: middle;\n",
              "    }\n",
              "\n",
              "    .dataframe tbody tr th {\n",
              "        vertical-align: top;\n",
              "    }\n",
              "\n",
              "    .dataframe thead th {\n",
              "        text-align: right;\n",
              "    }\n",
              "</style>\n",
              "<table border=\"1\" class=\"dataframe\">\n",
              "  <thead>\n",
              "    <tr style=\"text-align: right;\">\n",
              "      <th></th>\n",
              "      <th>calls_abroad</th>\n",
              "      <th>calls_in_France</th>\n",
              "    </tr>\n",
              "  </thead>\n",
              "  <tbody>\n",
              "    <tr>\n",
              "      <th>0</th>\n",
              "      <td>4</td>\n",
              "      <td>6</td>\n",
              "    </tr>\n",
              "    <tr>\n",
              "      <th>1</th>\n",
              "      <td>4</td>\n",
              "      <td>2</td>\n",
              "    </tr>\n",
              "    <tr>\n",
              "      <th>2</th>\n",
              "      <td>4</td>\n",
              "      <td>9</td>\n",
              "    </tr>\n",
              "    <tr>\n",
              "      <th>3</th>\n",
              "      <td>9</td>\n",
              "      <td>9</td>\n",
              "    </tr>\n",
              "    <tr>\n",
              "      <th>4</th>\n",
              "      <td>2</td>\n",
              "      <td>9</td>\n",
              "    </tr>\n",
              "  </tbody>\n",
              "</table>\n",
              "</div>\n",
              "    <div class=\"colab-df-buttons\">\n",
              "\n",
              "  <div class=\"colab-df-container\">\n",
              "    <button class=\"colab-df-convert\" onclick=\"convertToInteractive('df-add6d029-0183-4c59-93ba-3d0561413088')\"\n",
              "            title=\"Convert this dataframe to an interactive table.\"\n",
              "            style=\"display:none;\">\n",
              "\n",
              "  <svg xmlns=\"http://www.w3.org/2000/svg\" height=\"24px\" viewBox=\"0 -960 960 960\">\n",
              "    <path d=\"M120-120v-720h720v720H120Zm60-500h600v-160H180v160Zm220 220h160v-160H400v160Zm0 220h160v-160H400v160ZM180-400h160v-160H180v160Zm440 0h160v-160H620v160ZM180-180h160v-160H180v160Zm440 0h160v-160H620v160Z\"/>\n",
              "  </svg>\n",
              "    </button>\n",
              "\n",
              "  <style>\n",
              "    .colab-df-container {\n",
              "      display:flex;\n",
              "      gap: 12px;\n",
              "    }\n",
              "\n",
              "    .colab-df-convert {\n",
              "      background-color: #E8F0FE;\n",
              "      border: none;\n",
              "      border-radius: 50%;\n",
              "      cursor: pointer;\n",
              "      display: none;\n",
              "      fill: #1967D2;\n",
              "      height: 32px;\n",
              "      padding: 0 0 0 0;\n",
              "      width: 32px;\n",
              "    }\n",
              "\n",
              "    .colab-df-convert:hover {\n",
              "      background-color: #E2EBFA;\n",
              "      box-shadow: 0px 1px 2px rgba(60, 64, 67, 0.3), 0px 1px 3px 1px rgba(60, 64, 67, 0.15);\n",
              "      fill: #174EA6;\n",
              "    }\n",
              "\n",
              "    .colab-df-buttons div {\n",
              "      margin-bottom: 4px;\n",
              "    }\n",
              "\n",
              "    [theme=dark] .colab-df-convert {\n",
              "      background-color: #3B4455;\n",
              "      fill: #D2E3FC;\n",
              "    }\n",
              "\n",
              "    [theme=dark] .colab-df-convert:hover {\n",
              "      background-color: #434B5C;\n",
              "      box-shadow: 0px 1px 3px 1px rgba(0, 0, 0, 0.15);\n",
              "      filter: drop-shadow(0px 1px 2px rgba(0, 0, 0, 0.3));\n",
              "      fill: #FFFFFF;\n",
              "    }\n",
              "  </style>\n",
              "\n",
              "    <script>\n",
              "      const buttonEl =\n",
              "        document.querySelector('#df-add6d029-0183-4c59-93ba-3d0561413088 button.colab-df-convert');\n",
              "      buttonEl.style.display =\n",
              "        google.colab.kernel.accessAllowed ? 'block' : 'none';\n",
              "\n",
              "      async function convertToInteractive(key) {\n",
              "        const element = document.querySelector('#df-add6d029-0183-4c59-93ba-3d0561413088');\n",
              "        const dataTable =\n",
              "          await google.colab.kernel.invokeFunction('convertToInteractive',\n",
              "                                                    [key], {});\n",
              "        if (!dataTable) return;\n",
              "\n",
              "        const docLinkHtml = 'Like what you see? Visit the ' +\n",
              "          '<a target=\"_blank\" href=https://colab.research.google.com/notebooks/data_table.ipynb>data table notebook</a>'\n",
              "          + ' to learn more about interactive tables.';\n",
              "        element.innerHTML = '';\n",
              "        dataTable['output_type'] = 'display_data';\n",
              "        await google.colab.output.renderOutput(dataTable, element);\n",
              "        const docLink = document.createElement('div');\n",
              "        docLink.innerHTML = docLinkHtml;\n",
              "        element.appendChild(docLink);\n",
              "      }\n",
              "    </script>\n",
              "  </div>\n",
              "\n",
              "\n",
              "    <div id=\"df-1828d3b4-1ca4-4518-b6fe-af118c4cc629\">\n",
              "      <button class=\"colab-df-quickchart\" onclick=\"quickchart('df-1828d3b4-1ca4-4518-b6fe-af118c4cc629')\"\n",
              "                title=\"Suggest charts\"\n",
              "                style=\"display:none;\">\n",
              "\n",
              "<svg xmlns=\"http://www.w3.org/2000/svg\" height=\"24px\"viewBox=\"0 0 24 24\"\n",
              "     width=\"24px\">\n",
              "    <g>\n",
              "        <path d=\"M19 3H5c-1.1 0-2 .9-2 2v14c0 1.1.9 2 2 2h14c1.1 0 2-.9 2-2V5c0-1.1-.9-2-2-2zM9 17H7v-7h2v7zm4 0h-2V7h2v10zm4 0h-2v-4h2v4z\"/>\n",
              "    </g>\n",
              "</svg>\n",
              "      </button>\n",
              "\n",
              "<style>\n",
              "  .colab-df-quickchart {\n",
              "      --bg-color: #E8F0FE;\n",
              "      --fill-color: #1967D2;\n",
              "      --hover-bg-color: #E2EBFA;\n",
              "      --hover-fill-color: #174EA6;\n",
              "      --disabled-fill-color: #AAA;\n",
              "      --disabled-bg-color: #DDD;\n",
              "  }\n",
              "\n",
              "  [theme=dark] .colab-df-quickchart {\n",
              "      --bg-color: #3B4455;\n",
              "      --fill-color: #D2E3FC;\n",
              "      --hover-bg-color: #434B5C;\n",
              "      --hover-fill-color: #FFFFFF;\n",
              "      --disabled-bg-color: #3B4455;\n",
              "      --disabled-fill-color: #666;\n",
              "  }\n",
              "\n",
              "  .colab-df-quickchart {\n",
              "    background-color: var(--bg-color);\n",
              "    border: none;\n",
              "    border-radius: 50%;\n",
              "    cursor: pointer;\n",
              "    display: none;\n",
              "    fill: var(--fill-color);\n",
              "    height: 32px;\n",
              "    padding: 0;\n",
              "    width: 32px;\n",
              "  }\n",
              "\n",
              "  .colab-df-quickchart:hover {\n",
              "    background-color: var(--hover-bg-color);\n",
              "    box-shadow: 0 1px 2px rgba(60, 64, 67, 0.3), 0 1px 3px 1px rgba(60, 64, 67, 0.15);\n",
              "    fill: var(--button-hover-fill-color);\n",
              "  }\n",
              "\n",
              "  .colab-df-quickchart-complete:disabled,\n",
              "  .colab-df-quickchart-complete:disabled:hover {\n",
              "    background-color: var(--disabled-bg-color);\n",
              "    fill: var(--disabled-fill-color);\n",
              "    box-shadow: none;\n",
              "  }\n",
              "\n",
              "  .colab-df-spinner {\n",
              "    border: 2px solid var(--fill-color);\n",
              "    border-color: transparent;\n",
              "    border-bottom-color: var(--fill-color);\n",
              "    animation:\n",
              "      spin 1s steps(1) infinite;\n",
              "  }\n",
              "\n",
              "  @keyframes spin {\n",
              "    0% {\n",
              "      border-color: transparent;\n",
              "      border-bottom-color: var(--fill-color);\n",
              "      border-left-color: var(--fill-color);\n",
              "    }\n",
              "    20% {\n",
              "      border-color: transparent;\n",
              "      border-left-color: var(--fill-color);\n",
              "      border-top-color: var(--fill-color);\n",
              "    }\n",
              "    30% {\n",
              "      border-color: transparent;\n",
              "      border-left-color: var(--fill-color);\n",
              "      border-top-color: var(--fill-color);\n",
              "      border-right-color: var(--fill-color);\n",
              "    }\n",
              "    40% {\n",
              "      border-color: transparent;\n",
              "      border-right-color: var(--fill-color);\n",
              "      border-top-color: var(--fill-color);\n",
              "    }\n",
              "    60% {\n",
              "      border-color: transparent;\n",
              "      border-right-color: var(--fill-color);\n",
              "    }\n",
              "    80% {\n",
              "      border-color: transparent;\n",
              "      border-right-color: var(--fill-color);\n",
              "      border-bottom-color: var(--fill-color);\n",
              "    }\n",
              "    90% {\n",
              "      border-color: transparent;\n",
              "      border-bottom-color: var(--fill-color);\n",
              "    }\n",
              "  }\n",
              "</style>\n",
              "\n",
              "      <script>\n",
              "        async function quickchart(key) {\n",
              "          const quickchartButtonEl =\n",
              "            document.querySelector('#' + key + ' button');\n",
              "          quickchartButtonEl.disabled = true;  // To prevent multiple clicks.\n",
              "          quickchartButtonEl.classList.add('colab-df-spinner');\n",
              "          try {\n",
              "            const charts = await google.colab.kernel.invokeFunction(\n",
              "                'suggestCharts', [key], {});\n",
              "          } catch (error) {\n",
              "            console.error('Error during call to suggestCharts:', error);\n",
              "          }\n",
              "          quickchartButtonEl.classList.remove('colab-df-spinner');\n",
              "          quickchartButtonEl.classList.add('colab-df-quickchart-complete');\n",
              "        }\n",
              "        (() => {\n",
              "          let quickchartButtonEl =\n",
              "            document.querySelector('#df-1828d3b4-1ca4-4518-b6fe-af118c4cc629 button');\n",
              "          quickchartButtonEl.style.display =\n",
              "            google.colab.kernel.accessAllowed ? 'block' : 'none';\n",
              "        })();\n",
              "      </script>\n",
              "    </div>\n",
              "\n",
              "    </div>\n",
              "  </div>\n"
            ],
            "text/plain": [
              "   calls_abroad  calls_in_France\n",
              "0             4                6\n",
              "1             4                2\n",
              "2             4                9\n",
              "3             9                9\n",
              "4             2                9"
            ]
          },
          "execution_count": 3,
          "metadata": {},
          "output_type": "execute_result"
        }
      ],
      "source": [
        "df = pd.read_csv(\"swile_sales_calls.csv\")\n",
        "df.head()"
      ]
    },
    {
      "cell_type": "code",
      "execution_count": 4,
      "metadata": {
        "colab": {
          "base_uri": "https://localhost:8080/",
          "height": 410
        },
        "id": "O5YV6VhToEGv",
        "outputId": "bf0c32c1-01b4-442a-d439-5f0c30105fc1"
      },
      "outputs": [
        {
          "name": "stdout",
          "output_type": "stream",
          "text": [
            "Shape: (70, 2)\n",
            "------------\n",
            "Dtypes:\n",
            "calls_abroad       int64\n",
            "calls_in_France    int64\n",
            "dtype: object\n"
          ]
        },
        {
          "data": {
            "application/vnd.google.colaboratory.intrinsic+json": {
              "summary": "{\n  \"name\": \"summary\",\n  \"rows\": 8,\n  \"fields\": [\n    {\n      \"column\": \"calls_abroad\",\n      \"properties\": {\n        \"dtype\": \"number\",\n        \"std\": 23.17627090640024,\n        \"min\": 1.0,\n        \"max\": 70.0,\n        \"num_unique_values\": 8,\n        \"samples\": [\n          5.5,\n          5.0,\n          70.0\n        ],\n        \"semantic_type\": \"\",\n        \"description\": \"\"\n      }\n    },\n    {\n      \"column\": \"calls_in_France\",\n      \"properties\": {\n        \"dtype\": \"number\",\n        \"std\": 23.009185089372366,\n        \"min\": 2.0,\n        \"max\": 70.0,\n        \"num_unique_values\": 8,\n        \"samples\": [\n          5.785714285714286,\n          6.0,\n          70.0\n        ],\n        \"semantic_type\": \"\",\n        \"description\": \"\"\n      }\n    }\n  ]\n}",
              "type": "dataframe",
              "variable_name": "summary"
            },
            "text/html": [
              "\n",
              "  <div id=\"df-93f6f0c7-0080-427c-ac35-3cbb6d27b79a\" class=\"colab-df-container\">\n",
              "    <div>\n",
              "<style scoped>\n",
              "    .dataframe tbody tr th:only-of-type {\n",
              "        vertical-align: middle;\n",
              "    }\n",
              "\n",
              "    .dataframe tbody tr th {\n",
              "        vertical-align: top;\n",
              "    }\n",
              "\n",
              "    .dataframe thead th {\n",
              "        text-align: right;\n",
              "    }\n",
              "</style>\n",
              "<table border=\"1\" class=\"dataframe\">\n",
              "  <thead>\n",
              "    <tr style=\"text-align: right;\">\n",
              "      <th></th>\n",
              "      <th>calls_abroad</th>\n",
              "      <th>calls_in_France</th>\n",
              "    </tr>\n",
              "  </thead>\n",
              "  <tbody>\n",
              "    <tr>\n",
              "      <th>count</th>\n",
              "      <td>70.000</td>\n",
              "      <td>70.000</td>\n",
              "    </tr>\n",
              "    <tr>\n",
              "      <th>mean</th>\n",
              "      <td>5.500</td>\n",
              "      <td>5.786</td>\n",
              "    </tr>\n",
              "    <tr>\n",
              "      <th>std</th>\n",
              "      <td>2.717</td>\n",
              "      <td>2.049</td>\n",
              "    </tr>\n",
              "    <tr>\n",
              "      <th>min</th>\n",
              "      <td>1.000</td>\n",
              "      <td>2.000</td>\n",
              "    </tr>\n",
              "    <tr>\n",
              "      <th>25%</th>\n",
              "      <td>3.000</td>\n",
              "      <td>5.000</td>\n",
              "    </tr>\n",
              "    <tr>\n",
              "      <th>50%</th>\n",
              "      <td>5.000</td>\n",
              "      <td>6.000</td>\n",
              "    </tr>\n",
              "    <tr>\n",
              "      <th>75%</th>\n",
              "      <td>8.000</td>\n",
              "      <td>7.000</td>\n",
              "    </tr>\n",
              "    <tr>\n",
              "      <th>max</th>\n",
              "      <td>9.000</td>\n",
              "      <td>9.000</td>\n",
              "    </tr>\n",
              "  </tbody>\n",
              "</table>\n",
              "</div>\n",
              "    <div class=\"colab-df-buttons\">\n",
              "\n",
              "  <div class=\"colab-df-container\">\n",
              "    <button class=\"colab-df-convert\" onclick=\"convertToInteractive('df-93f6f0c7-0080-427c-ac35-3cbb6d27b79a')\"\n",
              "            title=\"Convert this dataframe to an interactive table.\"\n",
              "            style=\"display:none;\">\n",
              "\n",
              "  <svg xmlns=\"http://www.w3.org/2000/svg\" height=\"24px\" viewBox=\"0 -960 960 960\">\n",
              "    <path d=\"M120-120v-720h720v720H120Zm60-500h600v-160H180v160Zm220 220h160v-160H400v160Zm0 220h160v-160H400v160ZM180-400h160v-160H180v160Zm440 0h160v-160H620v160ZM180-180h160v-160H180v160Zm440 0h160v-160H620v160Z\"/>\n",
              "  </svg>\n",
              "    </button>\n",
              "\n",
              "  <style>\n",
              "    .colab-df-container {\n",
              "      display:flex;\n",
              "      gap: 12px;\n",
              "    }\n",
              "\n",
              "    .colab-df-convert {\n",
              "      background-color: #E8F0FE;\n",
              "      border: none;\n",
              "      border-radius: 50%;\n",
              "      cursor: pointer;\n",
              "      display: none;\n",
              "      fill: #1967D2;\n",
              "      height: 32px;\n",
              "      padding: 0 0 0 0;\n",
              "      width: 32px;\n",
              "    }\n",
              "\n",
              "    .colab-df-convert:hover {\n",
              "      background-color: #E2EBFA;\n",
              "      box-shadow: 0px 1px 2px rgba(60, 64, 67, 0.3), 0px 1px 3px 1px rgba(60, 64, 67, 0.15);\n",
              "      fill: #174EA6;\n",
              "    }\n",
              "\n",
              "    .colab-df-buttons div {\n",
              "      margin-bottom: 4px;\n",
              "    }\n",
              "\n",
              "    [theme=dark] .colab-df-convert {\n",
              "      background-color: #3B4455;\n",
              "      fill: #D2E3FC;\n",
              "    }\n",
              "\n",
              "    [theme=dark] .colab-df-convert:hover {\n",
              "      background-color: #434B5C;\n",
              "      box-shadow: 0px 1px 3px 1px rgba(0, 0, 0, 0.15);\n",
              "      filter: drop-shadow(0px 1px 2px rgba(0, 0, 0, 0.3));\n",
              "      fill: #FFFFFF;\n",
              "    }\n",
              "  </style>\n",
              "\n",
              "    <script>\n",
              "      const buttonEl =\n",
              "        document.querySelector('#df-93f6f0c7-0080-427c-ac35-3cbb6d27b79a button.colab-df-convert');\n",
              "      buttonEl.style.display =\n",
              "        google.colab.kernel.accessAllowed ? 'block' : 'none';\n",
              "\n",
              "      async function convertToInteractive(key) {\n",
              "        const element = document.querySelector('#df-93f6f0c7-0080-427c-ac35-3cbb6d27b79a');\n",
              "        const dataTable =\n",
              "          await google.colab.kernel.invokeFunction('convertToInteractive',\n",
              "                                                    [key], {});\n",
              "        if (!dataTable) return;\n",
              "\n",
              "        const docLinkHtml = 'Like what you see? Visit the ' +\n",
              "          '<a target=\"_blank\" href=https://colab.research.google.com/notebooks/data_table.ipynb>data table notebook</a>'\n",
              "          + ' to learn more about interactive tables.';\n",
              "        element.innerHTML = '';\n",
              "        dataTable['output_type'] = 'display_data';\n",
              "        await google.colab.output.renderOutput(dataTable, element);\n",
              "        const docLink = document.createElement('div');\n",
              "        docLink.innerHTML = docLinkHtml;\n",
              "        element.appendChild(docLink);\n",
              "      }\n",
              "    </script>\n",
              "  </div>\n",
              "\n",
              "\n",
              "    <div id=\"df-488d9dd1-4c17-414d-a62f-874fae9877dd\">\n",
              "      <button class=\"colab-df-quickchart\" onclick=\"quickchart('df-488d9dd1-4c17-414d-a62f-874fae9877dd')\"\n",
              "                title=\"Suggest charts\"\n",
              "                style=\"display:none;\">\n",
              "\n",
              "<svg xmlns=\"http://www.w3.org/2000/svg\" height=\"24px\"viewBox=\"0 0 24 24\"\n",
              "     width=\"24px\">\n",
              "    <g>\n",
              "        <path d=\"M19 3H5c-1.1 0-2 .9-2 2v14c0 1.1.9 2 2 2h14c1.1 0 2-.9 2-2V5c0-1.1-.9-2-2-2zM9 17H7v-7h2v7zm4 0h-2V7h2v10zm4 0h-2v-4h2v4z\"/>\n",
              "    </g>\n",
              "</svg>\n",
              "      </button>\n",
              "\n",
              "<style>\n",
              "  .colab-df-quickchart {\n",
              "      --bg-color: #E8F0FE;\n",
              "      --fill-color: #1967D2;\n",
              "      --hover-bg-color: #E2EBFA;\n",
              "      --hover-fill-color: #174EA6;\n",
              "      --disabled-fill-color: #AAA;\n",
              "      --disabled-bg-color: #DDD;\n",
              "  }\n",
              "\n",
              "  [theme=dark] .colab-df-quickchart {\n",
              "      --bg-color: #3B4455;\n",
              "      --fill-color: #D2E3FC;\n",
              "      --hover-bg-color: #434B5C;\n",
              "      --hover-fill-color: #FFFFFF;\n",
              "      --disabled-bg-color: #3B4455;\n",
              "      --disabled-fill-color: #666;\n",
              "  }\n",
              "\n",
              "  .colab-df-quickchart {\n",
              "    background-color: var(--bg-color);\n",
              "    border: none;\n",
              "    border-radius: 50%;\n",
              "    cursor: pointer;\n",
              "    display: none;\n",
              "    fill: var(--fill-color);\n",
              "    height: 32px;\n",
              "    padding: 0;\n",
              "    width: 32px;\n",
              "  }\n",
              "\n",
              "  .colab-df-quickchart:hover {\n",
              "    background-color: var(--hover-bg-color);\n",
              "    box-shadow: 0 1px 2px rgba(60, 64, 67, 0.3), 0 1px 3px 1px rgba(60, 64, 67, 0.15);\n",
              "    fill: var(--button-hover-fill-color);\n",
              "  }\n",
              "\n",
              "  .colab-df-quickchart-complete:disabled,\n",
              "  .colab-df-quickchart-complete:disabled:hover {\n",
              "    background-color: var(--disabled-bg-color);\n",
              "    fill: var(--disabled-fill-color);\n",
              "    box-shadow: none;\n",
              "  }\n",
              "\n",
              "  .colab-df-spinner {\n",
              "    border: 2px solid var(--fill-color);\n",
              "    border-color: transparent;\n",
              "    border-bottom-color: var(--fill-color);\n",
              "    animation:\n",
              "      spin 1s steps(1) infinite;\n",
              "  }\n",
              "\n",
              "  @keyframes spin {\n",
              "    0% {\n",
              "      border-color: transparent;\n",
              "      border-bottom-color: var(--fill-color);\n",
              "      border-left-color: var(--fill-color);\n",
              "    }\n",
              "    20% {\n",
              "      border-color: transparent;\n",
              "      border-left-color: var(--fill-color);\n",
              "      border-top-color: var(--fill-color);\n",
              "    }\n",
              "    30% {\n",
              "      border-color: transparent;\n",
              "      border-left-color: var(--fill-color);\n",
              "      border-top-color: var(--fill-color);\n",
              "      border-right-color: var(--fill-color);\n",
              "    }\n",
              "    40% {\n",
              "      border-color: transparent;\n",
              "      border-right-color: var(--fill-color);\n",
              "      border-top-color: var(--fill-color);\n",
              "    }\n",
              "    60% {\n",
              "      border-color: transparent;\n",
              "      border-right-color: var(--fill-color);\n",
              "    }\n",
              "    80% {\n",
              "      border-color: transparent;\n",
              "      border-right-color: var(--fill-color);\n",
              "      border-bottom-color: var(--fill-color);\n",
              "    }\n",
              "    90% {\n",
              "      border-color: transparent;\n",
              "      border-bottom-color: var(--fill-color);\n",
              "    }\n",
              "  }\n",
              "</style>\n",
              "\n",
              "      <script>\n",
              "        async function quickchart(key) {\n",
              "          const quickchartButtonEl =\n",
              "            document.querySelector('#' + key + ' button');\n",
              "          quickchartButtonEl.disabled = true;  // To prevent multiple clicks.\n",
              "          quickchartButtonEl.classList.add('colab-df-spinner');\n",
              "          try {\n",
              "            const charts = await google.colab.kernel.invokeFunction(\n",
              "                'suggestCharts', [key], {});\n",
              "          } catch (error) {\n",
              "            console.error('Error during call to suggestCharts:', error);\n",
              "          }\n",
              "          quickchartButtonEl.classList.remove('colab-df-spinner');\n",
              "          quickchartButtonEl.classList.add('colab-df-quickchart-complete');\n",
              "        }\n",
              "        (() => {\n",
              "          let quickchartButtonEl =\n",
              "            document.querySelector('#df-488d9dd1-4c17-414d-a62f-874fae9877dd button');\n",
              "          quickchartButtonEl.style.display =\n",
              "            google.colab.kernel.accessAllowed ? 'block' : 'none';\n",
              "        })();\n",
              "      </script>\n",
              "    </div>\n",
              "\n",
              "  <div id=\"id_b1f696fd-abc6-43dd-86d8-73618ebf000e\">\n",
              "    <style>\n",
              "      .colab-df-generate {\n",
              "        background-color: #E8F0FE;\n",
              "        border: none;\n",
              "        border-radius: 50%;\n",
              "        cursor: pointer;\n",
              "        display: none;\n",
              "        fill: #1967D2;\n",
              "        height: 32px;\n",
              "        padding: 0 0 0 0;\n",
              "        width: 32px;\n",
              "      }\n",
              "\n",
              "      .colab-df-generate:hover {\n",
              "        background-color: #E2EBFA;\n",
              "        box-shadow: 0px 1px 2px rgba(60, 64, 67, 0.3), 0px 1px 3px 1px rgba(60, 64, 67, 0.15);\n",
              "        fill: #174EA6;\n",
              "      }\n",
              "\n",
              "      [theme=dark] .colab-df-generate {\n",
              "        background-color: #3B4455;\n",
              "        fill: #D2E3FC;\n",
              "      }\n",
              "\n",
              "      [theme=dark] .colab-df-generate:hover {\n",
              "        background-color: #434B5C;\n",
              "        box-shadow: 0px 1px 3px 1px rgba(0, 0, 0, 0.15);\n",
              "        filter: drop-shadow(0px 1px 2px rgba(0, 0, 0, 0.3));\n",
              "        fill: #FFFFFF;\n",
              "      }\n",
              "    </style>\n",
              "    <button class=\"colab-df-generate\" onclick=\"generateWithVariable('summary')\"\n",
              "            title=\"Generate code using this dataframe.\"\n",
              "            style=\"display:none;\">\n",
              "\n",
              "  <svg xmlns=\"http://www.w3.org/2000/svg\" height=\"24px\"viewBox=\"0 0 24 24\"\n",
              "       width=\"24px\">\n",
              "    <path d=\"M7,19H8.4L18.45,9,17,7.55,7,17.6ZM5,21V16.75L18.45,3.32a2,2,0,0,1,2.83,0l1.4,1.43a1.91,1.91,0,0,1,.58,1.4,1.91,1.91,0,0,1-.58,1.4L9.25,21ZM18.45,9,17,7.55Zm-12,3A5.31,5.31,0,0,0,4.9,8.1,5.31,5.31,0,0,0,1,6.5,5.31,5.31,0,0,0,4.9,4.9,5.31,5.31,0,0,0,6.5,1,5.31,5.31,0,0,0,8.1,4.9,5.31,5.31,0,0,0,12,6.5,5.46,5.46,0,0,0,6.5,12Z\"/>\n",
              "  </svg>\n",
              "    </button>\n",
              "    <script>\n",
              "      (() => {\n",
              "      const buttonEl =\n",
              "        document.querySelector('#id_b1f696fd-abc6-43dd-86d8-73618ebf000e button.colab-df-generate');\n",
              "      buttonEl.style.display =\n",
              "        google.colab.kernel.accessAllowed ? 'block' : 'none';\n",
              "\n",
              "      buttonEl.onclick = () => {\n",
              "        google.colab.notebook.generateWithVariable('summary');\n",
              "      }\n",
              "      })();\n",
              "    </script>\n",
              "  </div>\n",
              "\n",
              "    </div>\n",
              "  </div>\n"
            ],
            "text/plain": [
              "       calls_abroad  calls_in_France\n",
              "count        70.000           70.000\n",
              "mean          5.500            5.786\n",
              "std           2.717            2.049\n",
              "min           1.000            2.000\n",
              "25%           3.000            5.000\n",
              "50%           5.000            6.000\n",
              "75%           8.000            7.000\n",
              "max           9.000            9.000"
            ]
          },
          "execution_count": 4,
          "metadata": {},
          "output_type": "execute_result"
        }
      ],
      "source": [
        "# Quick structure & summary\n",
        "print('Shape:', df.shape)\n",
        "print(\"------------\")\n",
        "print('Dtypes:')\n",
        "print(df.dtypes)\n",
        "\n",
        "summary = df.describe()\n",
        "summary"
      ]
    },
    {
      "cell_type": "markdown",
      "metadata": {
        "id": "eNnATnhEoEGv"
      },
      "source": [
        "## Step 3 - EDA\n",
        "\n",
        "For our EDA, we will simply calculate the `mean` for both our columns and then try to visualize it using `.plot()` function in `pandas`"
      ]
    },
    {
      "cell_type": "code",
      "execution_count": 5,
      "metadata": {
        "colab": {
          "base_uri": "https://localhost:8080/",
          "height": 560
        },
        "id": "yOihfouIoEGv",
        "outputId": "4ed094c7-0f03-4f58-f8b0-14e8bfe41ac4"
      },
      "outputs": [
        {
          "data": {
            "text/plain": [
              "<Axes: title={'center': 'Mean of calls in France and abroad'}>"
            ]
          },
          "execution_count": 5,
          "metadata": {},
          "output_type": "execute_result"
        },
        {
          "data": {
            "image/png": "[encoded data removed]",
            "text/plain": [
              "<Figure size 640x480 with 1 Axes>"
            ]
          },
          "metadata": {},
          "output_type": "display_data"
        }
      ],
      "source": [
        "df.mean().plot(kind='bar',\n",
        "               title='Mean of calls in France and abroad')"
      ]
    },
    {
      "cell_type": "markdown",
      "metadata": {
        "id": "GgB1ysmBoEGv"
      },
      "source": [
        "Below are simple histograms (no styling) to eyeball distribution shapes. This helps check whether a t‑test's normality assumption is at least roughly reasonable (with **n=70**, the t‑test is also fairly robust by the [Central Limit Theorem](https://en.wikipedia.org/wiki/Central_limit_theorem))."
      ]
    },
    {
      "cell_type": "code",
      "execution_count": 6,
      "metadata": {
        "colab": {
          "base_uri": "https://localhost:8080/",
          "height": 472
        },
        "id": "pkSSUylVoEGv",
        "outputId": "74651ec6-37c0-4f01-d263-f979070ff35b"
      },
      "outputs": [
        {
          "data": {
            "image/png": "[encoded data removed]",
            "text/plain": [
              "<Figure size 640x480 with 1 Axes>"
            ]
          },
          "metadata": {},
          "output_type": "display_data"
        }
      ],
      "source": [
        "# Histogram: calls_in_France\n",
        "plt.figure()\n",
        "plt.hist(df['calls_in_France'], bins=10)\n",
        "plt.title('Histogram — calls_in_France')\n",
        "plt.xlabel('calls_in_France')\n",
        "plt.ylabel('Frequency')\n",
        "plt.show()"
      ]
    },
    {
      "cell_type": "code",
      "execution_count": 7,
      "metadata": {
        "colab": {
          "base_uri": "https://localhost:8080/",
          "height": 472
        },
        "id": "Bhb3pjCloEGw",
        "outputId": "ecd137fa-76c8-4bd9-c9e7-0cc45529eb6a"
      },
      "outputs": [
        {
          "data": {
            "image/png": "[encoded data removed]",
            "text/plain": [
              "<Figure size 640x480 with 1 Axes>"
            ]
          },
          "metadata": {},
          "output_type": "display_data"
        }
      ],
      "source": [
        "# Histogram: calls_abroad\n",
        "plt.figure()\n",
        "plt.hist(df['calls_abroad'], bins=10)\n",
        "plt.title('Histogram — calls_abroad')\n",
        "plt.xlabel('calls_abroad')\n",
        "plt.ylabel('Frequency')\n",
        "plt.show()\n"
      ]
    },
    {
      "cell_type": "markdown",
      "metadata": {
        "id": "rQjRh3hgoEGw"
      },
      "source": [
        "## Step 4 - Business Question to Answer & Statistical Hypotheses\n",
        "\n",
        "Before setting up statistical hypotheses, we need to be clear about the **business problem** we are trying to solve.\n",
        "\n",
        "In this dataset, each observation records:\n",
        "\n",
        "* The number of **calls made in France**\n",
        "* The number of **calls made abroad**\n",
        "\n",
        "Management is interested in this question:\n",
        "\n",
        "> Did the marketing campaign lead to more calls from French clients than from international clients?\n",
        "\n",
        "Once we have a clear business question, we can formulate it as a statistical hypothesis.\n",
        "\n",
        "**Hypotheses:**\n",
        "  \n",
        "For each observation, compute:\n",
        "\n",
        "$$\n",
        "\\text{diff} = \\text{calls\\_in\\_France} - \\text{calls\\_abroad}\n",
        "$$\n",
        "\n",
        "Hypotheses are:\n",
        "\n",
        "$$\n",
        "H_0:\\ \\mu_{\\text{diff}} \\le 0\n",
        "\\qquad\\text{vs}\\qquad\n",
        "H_1:\\ \\mu_{\\text{diff}} > 0\n",
        "$$\n",
        "\n",
        "In this case, we will use a Paired, one-tailed t-test (France vs Abroad)"
      ]
    },
    {
      "cell_type": "markdown",
      "metadata": {
        "id": "faVhaK4goEGw"
      },
      "source": [
        "## Step 5 - t-test (France − Abroad > 0)\n",
        "\n",
        "### 1. Compute the difference\n",
        "\n",
        "We want to know if **calls in France are higher than calls abroad**.\n",
        "For each day (or observation), we have two numbers:\n",
        "\n",
        "* `calls_in_France`\n",
        "* `calls_abroad`\n",
        "\n",
        "If we only compare averages directly, we lose the “paired” structure (same day). But since both values come from the same day, the right approach is to compute the **difference per observation**:\n",
        "\n",
        "$$\n",
        "\\text{diff}_i = \\text{calls\\_in\\_France}_i - \\text{calls\\_abroad}_i\n",
        "$$\n",
        "\n",
        "This transforms our two-sample question into a **one-sample test** on these differences.\n"
      ]
    },
    {
      "cell_type": "code",
      "execution_count": 8,
      "metadata": {
        "id": "_6Qc5_DhoEGw"
      },
      "outputs": [],
      "source": [
        "# Compute the differences row by row\n",
        "diff = df[\"calls_in_France\"] - df[\"calls_abroad\"]"
      ]
    },
    {
      "cell_type": "markdown",
      "metadata": {
        "id": "vtWNnPUdoEGw"
      },
      "source": [
        "\n",
        "### 2. t-test with SciPy\n",
        "\n",
        "We now test whether the **mean of `diff`** is significantly greater than **0**. Now that we have our diff values, we want to test if their mean is significantly greater than 0.\n",
        "Here’s the function you’ll use : [stats.ttest_1samp](https://docs.scipy.org/doc/scipy/reference/generated/scipy.stats.ttest_1samp.html)\n",
        "\n",
        "\n"
      ]
    },
    {
      "cell_type": "code",
      "execution_count": 9,
      "metadata": {
        "colab": {
          "base_uri": "https://localhost:8080/"
        },
        "id": "Iz7qgSNMoEGw",
        "outputId": "f90677ae-445a-46c2-dc0a-c993e2bb5463"
      },
      "outputs": [
        {
          "name": "stdout",
          "output_type": "stream",
          "text": [
            "t_obs: 0.7259, p-value: 0.2352\n"
          ]
        }
      ],
      "source": [
        "# Perform the one-sample t-test# Performing the One-Sample t-Test\n",
        "# This function tests whether the sample mean is significantly different from a hypothesized population mean\n",
        "\n",
        "# FUNCTION EXPLANATION: stats.ttest_1samp()\n",
        "# This function performs a one-sample t-test and returns two values: the t-statistic and p-value\n",
        "#\n",
        "# SYNTAX: stats.ttest_1samp(sample_data, popmean=hypothesized_mean, alternative=\"test_type\")\n",
        "\n",
        "t_obs, pvalue = stats.ttest_1samp(diff, popmean=0, alternative=\"greater\")\n",
        "print(f\"t_obs: {t_obs:.4f}, p-value: {pvalue:.4f}\")\n"
      ]
    },
    {
      "cell_type": "markdown",
      "metadata": {
        "id": "rQOTDBXLoEGw"
      },
      "source": [
        "* `diff` → the sample of differences (one value per user).\n",
        "* `popmean=0` → the null hypothesis mean (no difference).\n",
        "* `alternative=\"greater\"` → our hypothesis is one-sided: we only care if French calls are **greater** than abroad calls.\n",
        "\n",
        "The output `res` gives:\n",
        "\n",
        "* **statistic (t-value)**: how many standard errors away the observed mean is from 0.\n",
        "* **pvalue**: the probability of seeing a result this extreme under H₀.\n"
      ]
    },
    {
      "cell_type": "markdown",
      "metadata": {
        "id": "lcZUgYfOoEGw"
      },
      "source": [
        "<Note type = \"tip\">\n",
        "What’s happening:\n",
        "\n",
        "* `alternative=\"greater\"` directly encodes our hypothesis: $H_1: \\mu_{\\text{diff}} > 0$\n",
        "* No need to manually divide or adjust the p-value. SciPy does it for you.\n",
        "* The result is cleaner and avoids mistakes in the one-tailed conversion step.\n",
        "\n",
        "</Note>"
      ]
    },
    {
      "cell_type": "markdown",
      "metadata": {
        "id": "MAv4nSUyoEGw"
      },
      "source": [
        "### 3. The decision rule with $\\alpha = 10\\%$\n",
        "\n",
        "Setting $\\alpha = 0.10$ means we allow a 10% risk of making a wrong conclusion by saying France > Abroad when in fact there is no difference.\n",
        "\n",
        "The rule is:\n",
        "\n",
        "* If **p-value < 0.10** → reject $H_0$. We have evidence that the campaign increased calls in France compared to abroad.\n",
        "* If **p-value ≥ 0.10** → do not reject $H_0$. The data does not provide enough evidence that France generated more calls than abroad.\n"
      ]
    },
    {
      "cell_type": "code",
      "execution_count": 10,
      "metadata": {
        "colab": {
          "base_uri": "https://localhost:8080/"
        },
        "id": "LLpCzjVdoEGw",
        "outputId": "54df19b0-fa50-4a3b-fc74-e559cacb21fa"
      },
      "outputs": [
        {
          "name": "stdout",
          "output_type": "stream",
          "text": [
            "p-value is: 0.23518013477140437\n",
            "Fail to reject H0: There is insufficient evidence against the null hypothesis.\n"
          ]
        }
      ],
      "source": [
        "# Set the significance level (alpha)\n",
        "# Alpha represents the probability of making a Type I error (rejecting a true null hypothesis)\n",
        "# Common values: 0.01 (1%), 0.05 (5%), 0.10 (10%)\n",
        "# The smaller the alpha, the stronger evidence we need to reject H0\n",
        "alpha = 0.10\n",
        "\n",
        "# Display the p-value\n",
        "# The p-value is the probability of observing our test statistic (or more extreme)\n",
        "# assuming the null hypothesis is true\n",
        "\n",
        "# FUNCTION HINT: .format() method inserts variables into strings\n",
        "# Syntax: \"text with {} placeholder\".format(variable_to_insert)\n",
        "# Alternative modern syntax: f\"text with {variable_name}\" (f-string)\n",
        "print(\"p-value is: {}\".format(pvalue))\n",
        "\n",
        "\n",
        "# Make the statistical decision using p-value approach\n",
        "# DECISION RULE for p-value method:\n",
        "# - If p-value < alpha: Reject H0 (evidence against null hypothesis is strong enough)\n",
        "# - If p-value >= alpha: Fail to reject H0 (insufficient evidence against null hypothesis)\n",
        "\n",
        "if pvalue < alpha:\n",
        "    print(\"Reject H0: There is sufficient evidence against the null hypothesis.\")\n",
        "else:\n",
        "    print(\"Fail to reject H0: There is insufficient evidence against the null hypothesis.\")\n"
      ]
    },
    {
      "cell_type": "markdown",
      "metadata": {
        "id": "ooUgvkdhoEGw"
      },
      "source": [
        "## Step 6 (Optional) - Visualize probability\n",
        "\n",
        "We want to show:\n",
        "\n",
        "1. The **t-distribution under $H_0$** (no effect).\n",
        "2. The **critical region** (upper 10% tail, since $\\alpha = 0.10$).\n",
        "3. The **observed t-statistic** from our test."
      ]
    },
    {
      "cell_type": "code",
      "execution_count": 11,
      "metadata": {
        "colab": {
          "base_uri": "https://localhost:8080/",
          "height": 472
        },
        "id": "syDf4Z8uoEGw",
        "outputId": "d66ffd3b-0856-4333-a4fd-b946f0fdeac8"
      },
      "outputs": [
        {
          "data": {
            "image/png": "[encoded data removed]",
            "text/plain": [
              "<Figure size 640x480 with 1 Axes>"
            ]
          },
          "metadata": {},
          "output_type": "display_data"
        }
      ],
      "source": [
        "#  Step 1: Degrees of freedom = sample size - 1 (fundamental concept in t-tests)\n",
        "df = len(diff) - 1  # degrees of freedom from sample size\n",
        "\n",
        "# Step 2: Find the critical t-value\n",
        "# This is the threshold value that separates the rejection region from the non-rejection region\n",
        "# For a right-tailed test with α=0.10, we find the t-value where 90% of the distribution is to the left\n",
        "\n",
        "# FUNCTION HINT: stats.t.ppf() finds the \"percent point function\" (inverse CDF)\n",
        "# Syntax: stats.t.ppf(probability, degrees_of_freedom)\n",
        "# For right-tailed test: use (1 - alpha) as the probability\n",
        "# Example: stats.t.ppf(0.90, 10) gives the t-value where 90% of area is to the left\n",
        "t_crit = stats.t.ppf(1 - alpha, df)\n",
        "\n",
        "# Step 3: Set up the visualization\n",
        "# Create a range of x-values to plot the smooth t-distribution curve\n",
        "\n",
        "# FUNCTION HINT: np.linspace() creates evenly spaced numbers\n",
        "# Syntax: np.linspace(start, stop, number_of_points)\n",
        "# This creates x-values from -4 to 4 with 500 points for a smooth curve\n",
        "x = np.linspace(-4, 4, 500)  # 500 points between -4 and 4 for smooth curve\n",
        "\n",
        "# Step 4: Calculate the probability density function (PDF) values for the t-distribution\n",
        "# This gives us the height of the curve at each x-value\n",
        "\n",
        "# FUNCTION HINT: stats.t.pdf() calculates probability density function values\n",
        "# Syntax: stats.t.pdf(x_values, degrees_of_freedom)\n",
        "# This returns the height of the t-distribution curve at each x-value\n",
        "y = stats.t.pdf(x, df)\n",
        "\n",
        "# Step 5: Create the main plot\n",
        "# Plot the theoretical t-distribution under the null hypothesis\n",
        "\n",
        "# FUNCTION HINT: plt.plot() creates a line plot\n",
        "# Syntax: plt.plot(x_values, y_values, label=\"description\")\n",
        "plt.plot(x, y, label=\"t-distribution under H0\")\n",
        "\n",
        "# FUNCTION HINT: plt.ylim() sets the y-axis limits\n",
        "# bottom=0 ensures y-axis starts at 0 for better visualization\n",
        "plt.ylim(bottom=0)\n",
        "\n",
        "# Step 6: Highlight the rejection region\n",
        "# Shade the area where we would reject H0 (right tail beyond critical value)\n",
        "# If our observed t-statistic falls in this red region, we reject H0\n",
        "\n",
        "# FUNCTION HINT: plt.fill_between() fills area between curves\n",
        "# Syntax: plt.fill_between(x_values, y_values, where=condition, color=\"color\", alpha=transparency)\n",
        "# where=(x >= t_crit) means \"only fill where x is greater than or equal to critical value\"\n",
        "# alpha=0.3 makes the shading semi-transparent (0=invisible, 1=opaque)\n",
        "plt.fill_between(x, y, where=(x >= t_crit), color=\"red\", alpha=0.3,\n",
        "                 label=\"Rejection region (α=0.10)\")\n",
        "\n",
        "# Step 7: Mark the observed test statistic\n",
        "# Show where our calculated t-statistic falls on the distribution\n",
        "# This vertical line helps us visually determine if we reject or fail to reject H0\n",
        "\n",
        "# FUNCTION HINT: plt.axvline() draws a vertical line\n",
        "# Syntax: plt.axvline(x_position, color=\"color\", linestyle=\"style\", label=\"description\")\n",
        "# linestyle=\"--\" creates a dashed line\n",
        "plt.axvline(t_obs, color=\"blue\", linestyle=\"--\",\n",
        "            label=f\"Observed t = {t_obs:.2f}\")\n",
        "\n",
        "# Step 8: Add descriptive labels and display\n",
        "# FUNCTION HINTS for plot formatting:\n",
        "# plt.title() - adds a title to the plot\n",
        "# plt.xlabel() - labels the x-axis\n",
        "# plt.ylabel() - labels the y-axis\n",
        "# plt.legend() - displays the legend with all labels\n",
        "# plt.show() - displays the completed plot\n",
        "plt.title(\"One-sample t-test: Visualizing Decision Rule\")\n",
        "plt.xlabel(\"t value\")\n",
        "plt.ylabel(\"Density\")\n",
        "plt.legend()\n",
        "plt.show()\n"
      ]
    },
    {
      "cell_type": "markdown",
      "metadata": {
        "id": "qMxSPSUZoEGx"
      },
      "source": [
        "Since the blue line **does not fall inside the red rejection region**, we **fail to reject $H_0$**.\n",
        "That means: we don’t have enough evidence that the campaign had a significant effect on call volume in France compared to abroad."
      ]
    }
  ],
  "metadata": {
    "colab": {
      "provenance": []
    },
    "kernelspec": {
      "display_name": "Python 3",
      "language": "python",
      "name": "python3"
    },
    "language_info": {
      "codemirror_mode": {
        "name": "ipython",
        "version": 3
      },
      "file_extension": ".py",
      "mimetype": "text/x-python",
      "name": "python",
      "nbconvert_exporter": "python",
      "pygments_lexer": "ipython3",
      "version": "3.12.10"
    }
  },
  "nbformat": 4,
  "nbformat_minor": 0
}
