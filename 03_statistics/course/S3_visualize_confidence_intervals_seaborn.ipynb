{
 "cells": [
  {
   "cell_type": "markdown",
   "metadata": {
    "colab_type": "text",
    "id": "KCuqYh126IiA"
   },
   "source": [
    "# Visualize Confidence Intervals with Seaborn\n",
    "\n",
    "Instead of using Python only for calculation, you could use it as a tool for *Exploratory Data Analysis* just like [Tableau](https://app.julie.academy/course/data-visualisation-e/data-visualisation-with-tableau-e) ! 😲 🤩 To do so, we can use a library called [`seaborn`](https://seaborn.pydata.org/). Let's check out a few features of it. \n",
    "\n",
    "\n",
    "## What you will learn in this course 🧐🧐\n",
    "\n",
    "* Use basic features of `seaborn`\n",
    "* Create bar charts with `seaborn`\n",
    "* Visualize confidence intervals "
   ]
  },
  {
   "cell_type": "markdown",
   "metadata": {},
   "source": [
    "## Import classic libraries 📓\n",
    "\n",
    "Let's first import classic libraries for Data Science: `pandas`, `numpy` and `seaborn`"
   ]
  },
  {
   "cell_type": "code",
   "execution_count": 2,
   "metadata": {
    "colab": {},
    "colab_type": "code",
    "id": "SQ47eKCarkNV"
   },
   "outputs": [],
   "source": [
    "# Import of libraries \n",
    "import pandas as pd \n",
    "import numpy as np \n",
    "import seaborn as sns\n",
    "import matplotlib.pyplot as plt \n",
    "import scipy.stats as stats "
   ]
  },
  {
   "cell_type": "markdown",
   "metadata": {},
   "source": [
    "## Dataset \n",
    "\n",
    "Now let's say we have the following dataset describing how many kilometers some people travel to commute to work every morning. "
   ]
  },
  {
   "cell_type": "code",
   "execution_count": 3,
   "metadata": {
    "colab": {
     "base_uri": "https://localhost:8080/",
     "height": 204
    },
    "colab_type": "code",
    "executionInfo": {
     "elapsed": 460,
     "status": "ok",
     "timestamp": 1567959894268,
     "user": {
      "displayName": "Antoine Krajnc",
      "photoUrl": "https://lh3.googleusercontent.com/a-/AAuE7mC4XzNDVGvURzl4T5duDbMr6bUdhkYkDul_37G0OA=s64",
      "userId": "08465960390418158788"
     },
     "user_tz": -120
    },
    "id": "fot3WyLbr3_h",
    "outputId": "b5cc2875-5904-4094-88ff-c914874761b5"
   },
   "outputs": [
    {
     "data": {
      "text/html": [
       "<div>\n",
       "<style scoped>\n",
       "    .dataframe tbody tr th:only-of-type {\n",
       "        vertical-align: middle;\n",
       "    }\n",
       "\n",
       "    .dataframe tbody tr th {\n",
       "        vertical-align: top;\n",
       "    }\n",
       "\n",
       "    .dataframe thead th {\n",
       "        text-align: right;\n",
       "    }\n",
       "</style>\n",
       "<table border=\"1\" class=\"dataframe\">\n",
       "  <thead>\n",
       "    <tr style=\"text-align: right;\">\n",
       "      <th></th>\n",
       "      <th>type_of_transport</th>\n",
       "      <th>Km_traveled</th>\n",
       "    </tr>\n",
       "  </thead>\n",
       "  <tbody>\n",
       "    <tr>\n",
       "      <th>0</th>\n",
       "      <td>uber</td>\n",
       "      <td>34</td>\n",
       "    </tr>\n",
       "    <tr>\n",
       "      <th>1</th>\n",
       "      <td>bike</td>\n",
       "      <td>30</td>\n",
       "    </tr>\n",
       "    <tr>\n",
       "      <th>2</th>\n",
       "      <td>uber</td>\n",
       "      <td>22</td>\n",
       "    </tr>\n",
       "    <tr>\n",
       "      <th>3</th>\n",
       "      <td>bike</td>\n",
       "      <td>17</td>\n",
       "    </tr>\n",
       "    <tr>\n",
       "      <th>4</th>\n",
       "      <td>bike</td>\n",
       "      <td>29</td>\n",
       "    </tr>\n",
       "  </tbody>\n",
       "</table>\n",
       "</div>"
      ],
      "text/plain": [
       "  type_of_transport  Km_traveled\n",
       "0              uber           34\n",
       "1              bike           30\n",
       "2              uber           22\n",
       "3              bike           17\n",
       "4              bike           29"
      ]
     },
     "execution_count": 3,
     "metadata": {},
     "output_type": "execute_result"
    }
   ],
   "source": [
    "# Build and Visualize Dataset\n",
    "df = pd.read_csv(\"../data/km_traveled_all_transportations.csv\").iloc[:,1:]\n",
    "df.head()"
   ]
  },
  {
   "cell_type": "markdown",
   "metadata": {},
   "source": [
    "As you can see, our dataset is composed of `type_of_transport` and `km_traveled` per transport for each observation. Now what we need to know is the average `km_traveled` per transport. Therefore, we can use `.groupby` method in `pandas` that works exactly the same way as `GROUP BY` in SQL. "
   ]
  },
  {
   "cell_type": "code",
   "execution_count": 4,
   "metadata": {
    "colab": {
     "base_uri": "https://localhost:8080/",
     "height": 142
    },
    "colab_type": "code",
    "executionInfo": {
     "elapsed": 463,
     "status": "ok",
     "timestamp": 1567959972807,
     "user": {
      "displayName": "Antoine Krajnc",
      "photoUrl": "https://lh3.googleusercontent.com/a-/AAuE7mC4XzNDVGvURzl4T5duDbMr6bUdhkYkDul_37G0OA=s64",
      "userId": "08465960390418158788"
     },
     "user_tz": -120
    },
    "id": "DNNN34d2sL0U",
    "outputId": "35686367-ea0c-4669-d1d1-f2f6c9859b62"
   },
   "outputs": [
    {
     "data": {
      "text/html": [
       "<div>\n",
       "<style scoped>\n",
       "    .dataframe tbody tr th:only-of-type {\n",
       "        vertical-align: middle;\n",
       "    }\n",
       "\n",
       "    .dataframe tbody tr th {\n",
       "        vertical-align: top;\n",
       "    }\n",
       "\n",
       "    .dataframe thead th {\n",
       "        text-align: right;\n",
       "    }\n",
       "</style>\n",
       "<table border=\"1\" class=\"dataframe\">\n",
       "  <thead>\n",
       "    <tr style=\"text-align: right;\">\n",
       "      <th></th>\n",
       "      <th>Km_traveled</th>\n",
       "    </tr>\n",
       "    <tr>\n",
       "      <th>type_of_transport</th>\n",
       "      <th></th>\n",
       "    </tr>\n",
       "  </thead>\n",
       "  <tbody>\n",
       "    <tr>\n",
       "      <th>bike</th>\n",
       "      <td>23.125</td>\n",
       "    </tr>\n",
       "    <tr>\n",
       "      <th>bus</th>\n",
       "      <td>59.625</td>\n",
       "    </tr>\n",
       "    <tr>\n",
       "      <th>car</th>\n",
       "      <td>49.875</td>\n",
       "    </tr>\n",
       "    <tr>\n",
       "      <th>uber</th>\n",
       "      <td>40.375</td>\n",
       "    </tr>\n",
       "  </tbody>\n",
       "</table>\n",
       "</div>"
      ],
      "text/plain": [
       "                   Km_traveled\n",
       "type_of_transport             \n",
       "bike                    23.125\n",
       "bus                     59.625\n",
       "car                     49.875\n",
       "uber                    40.375"
      ]
     },
     "execution_count": 4,
     "metadata": {},
     "output_type": "execute_result"
    }
   ],
   "source": [
    "# Percentage of conversions \n",
    "df.groupby(\"type_of_transport\").mean()"
   ]
  },
  {
   "cell_type": "markdown",
   "metadata": {},
   "source": [
    "Now the nice thing about this is that we can visualize our dataset using a library called `seaborn`. There is indeed one function called `pointplot` which will automatically display the mean for each category as points, along with confidence intervals shown as error bars. This gives us a clean visualization that clearly shows both the central tendency and the uncertainty around our estimates for each transport type."
   ]
  },
  {
   "cell_type": "code",
   "execution_count": 5,
   "metadata": {
    "colab": {
     "base_uri": "https://localhost:8080/",
     "height": 386
    },
    "colab_type": "code",
    "executionInfo": {
     "elapsed": 686,
     "status": "ok",
     "timestamp": 1567960221883,
     "user": {
      "displayName": "Antoine Krajnc",
      "photoUrl": "https://lh3.googleusercontent.com/a-/AAuE7mC4XzNDVGvURzl4T5duDbMr6bUdhkYkDul_37G0OA=s64",
      "userId": "08465960390418158788"
     },
     "user_tz": -120
    },
    "id": "924aOwvdsaeV",
    "outputId": "554dbd4b-6c95-4617-f355-3f6d23f60437"
   },
   "outputs": [
    {
     "data": {
      "image/png": "[encoded data removed]",
      "text/plain": [
       "<Figure size 800x600 with 1 Axes>"
      ]
     },
     "metadata": {},
     "output_type": "display_data"
    }
   ],
   "source": [
    "# Visualisation of mean km traveled per transport type with 95% confidence interval\n",
    "\n",
    "# Create the figure and axis\n",
    "plt.figure(figsize=(8, 6))\n",
    "\n",
    "# Use pointplot with error bars and no joining lines\n",
    "sns.pointplot(\n",
    "    x=\"type_of_transport\", \n",
    "    y=\"Km_traveled\", \n",
    "    data=df,\n",
    "    estimator=np.mean, \n",
    "    errorbar=('ci', 95),  # 85% confidence interval\n",
    "    linestyle='none',      # No lines connecting points\n",
    "    markers=\"o\",           # Circle markers\n",
    "    color=\"black\",\n",
    "    capsize=0.05         # Add caps to error bars\n",
    ")\n",
    "\n",
    "plt.show()"
   ]
  },
  {
   "cell_type": "markdown",
   "metadata": {},
   "source": [
    "As you can see the black lines at the end of each bar represent your confidence interval. Meaning your true mean lies between these lines. Now, let's see how we can reduce this confidence interval."
   ]
  },
  {
   "cell_type": "markdown",
   "metadata": {},
   "source": [
    "Now we set up a confidence level $\\alpha = 0.15$ and now we have way lower confidence intervals ! "
   ]
  },
  {
   "cell_type": "code",
   "execution_count": 6,
   "metadata": {},
   "outputs": [
    {
     "data": {
      "image/png": "[encoded data removed]",
      "text/plain": [
       "<Figure size 800x600 with 1 Axes>"
      ]
     },
     "metadata": {},
     "output_type": "display_data"
    }
   ],
   "source": [
    "# Visualisation of mean km traveled per transport type with 95% confidence interval\n",
    "\n",
    "# Create the figure and axis\n",
    "plt.figure(figsize=(8, 6))\n",
    "\n",
    "# Use pointplot with error bars and no joining lines\n",
    "sns.pointplot(\n",
    "    x=\"type_of_transport\", \n",
    "    y=\"Km_traveled\", \n",
    "    data=df,\n",
    "    estimator=np.mean, \n",
    "    errorbar=('ci', 85),  # 85% confidence interval\n",
    "    linestyle='none',        # No lines connecting points\n",
    "    markers=\"o\",            # Circle markers\n",
    "    color=\"black\",\n",
    "    capsize=0.05         # Add caps to error bars\n",
    ")\n",
    "\n",
    "plt.show()"
   ]
  },
  {
   "cell_type": "markdown",
   "metadata": {},
   "source": [
    "## Confidence intervals with category in columns \n",
    "\n",
    "Now as a final note, your dataset won't always look like the one above. Sometimes, your categories will be in column just like the below dataset:"
   ]
  },
  {
   "cell_type": "code",
   "execution_count": 7,
   "metadata": {},
   "outputs": [
    {
     "data": {
      "text/html": [
       "<div>\n",
       "<style scoped>\n",
       "    .dataframe tbody tr th:only-of-type {\n",
       "        vertical-align: middle;\n",
       "    }\n",
       "\n",
       "    .dataframe tbody tr th {\n",
       "        vertical-align: top;\n",
       "    }\n",
       "\n",
       "    .dataframe thead th {\n",
       "        text-align: right;\n",
       "    }\n",
       "</style>\n",
       "<table border=\"1\" class=\"dataframe\">\n",
       "  <thead>\n",
       "    <tr style=\"text-align: right;\">\n",
       "      <th></th>\n",
       "      <th>bike</th>\n",
       "      <th>bus</th>\n",
       "      <th>car</th>\n",
       "      <th>uber</th>\n",
       "    </tr>\n",
       "  </thead>\n",
       "  <tbody>\n",
       "    <tr>\n",
       "      <th>0</th>\n",
       "      <td>21</td>\n",
       "      <td>75</td>\n",
       "      <td>55</td>\n",
       "      <td>22</td>\n",
       "    </tr>\n",
       "    <tr>\n",
       "      <th>1</th>\n",
       "      <td>30</td>\n",
       "      <td>87</td>\n",
       "      <td>34</td>\n",
       "      <td>34</td>\n",
       "    </tr>\n",
       "    <tr>\n",
       "      <th>2</th>\n",
       "      <td>17</td>\n",
       "      <td>49</td>\n",
       "      <td>38</td>\n",
       "      <td>38</td>\n",
       "    </tr>\n",
       "    <tr>\n",
       "      <th>3</th>\n",
       "      <td>30</td>\n",
       "      <td>68</td>\n",
       "      <td>66</td>\n",
       "      <td>66</td>\n",
       "    </tr>\n",
       "    <tr>\n",
       "      <th>4</th>\n",
       "      <td>24</td>\n",
       "      <td>75</td>\n",
       "      <td>56</td>\n",
       "      <td>56</td>\n",
       "    </tr>\n",
       "  </tbody>\n",
       "</table>\n",
       "</div>"
      ],
      "text/plain": [
       "   bike  bus  car  uber\n",
       "0    21   75   55    22\n",
       "1    30   87   34    34\n",
       "2    17   49   38    38\n",
       "3    30   68   66    66\n",
       "4    24   75   56    56"
      ]
     },
     "execution_count": 7,
     "metadata": {},
     "output_type": "execute_result"
    }
   ],
   "source": [
    "df = pd.read_csv(\"../data/km_traveled_per_transport.csv\").iloc[:,1:]\n",
    "df.head()"
   ]
  },
  {
   "cell_type": "markdown",
   "metadata": {},
   "source": [
    "Now you will need to do a little bit more of manual work by selecting a `t-value` yourself and then specify it within a `.plot` function in `pandas`\n",
    "\n",
    "👋  as a reminder, you need to compute the margin of error. Here is the formula for mean: \n",
    "\n",
    "$$E = t \\frac{s}{\\sqrt{n}}$$"
   ]
  },
  {
   "cell_type": "code",
   "execution_count": 8,
   "metadata": {},
   "outputs": [
    {
     "data": {
      "image/png": "[encoded data removed]",
      "text/plain": [
       "<Figure size 1000x600 with 1 Axes>"
      ]
     },
     "metadata": {},
     "output_type": "display_data"
    },
    {
     "name": "stdout",
     "output_type": "stream",
     "text": [
      "Manual Confidence Interval Calculation:\n",
      "t-value chosen: 2.365\n",
      "Statistics by Transport Type:\n",
      "                     mean     std  count  margin_of_error\n",
      "type_of_transport                                        \n",
      "bike               23.125   5.963      8            4.986\n",
      "bus                59.625  20.674      8           17.287\n",
      "car                49.875  12.586      8           10.524\n",
      "uber               40.375  14.441      8           12.075\n"
     ]
    }
   ],
   "source": [
    "# Reshape the data\n",
    "df_long = df.melt(var_name='type_of_transport', value_name='Km_traveled')\n",
    "\n",
    "# Calculate basic statistics for each transport type\n",
    "grouped_stats = df_long.groupby('type_of_transport')['Km_traveled'].agg(['mean', 'std', 'count'])\n",
    "\n",
    "# MANUAL STEP: Choose your t-value yourself\n",
    "# For 95% confidence interval with n=8 (df=7): t ≈ 2.365\n",
    "# For 90% confidence interval with n=8 (df=7): t ≈ 1.895  \n",
    "# For 99% confidence interval with n=8 (df=7): t ≈ 3.499\n",
    "t_value = 2.365  # <-- YOU choose this value!\n",
    "\n",
    "# Calculate margin of error manually: E = t * (s / sqrt(n))\n",
    "grouped_stats['margin_of_error'] = t_value * grouped_stats['std'] / np.sqrt(grouped_stats['count'])\n",
    "\n",
    "# Create the plot using pandas .plot() function\n",
    "ax = grouped_stats['mean'].plot(\n",
    "    kind='bar',\n",
    "    yerr=grouped_stats['margin_of_error'],  # This is where you specify the error bars\n",
    "    capsize=5,                              # Add caps to error bars\n",
    "    color='lightblue',\n",
    "    edgecolor='black',\n",
    "    figsize=(10, 6),\n",
    "    title=f'Mean Km Traveled by Transport Type (t-value = {t_value})'\n",
    ")\n",
    "\n",
    "# Customize the plot\n",
    "ax.set_xlabel('Type of Transport')\n",
    "ax.set_ylabel('Km Traveled (km)')\n",
    "ax.tick_params(axis='x', rotation=0)\n",
    "plt.tight_layout()\n",
    "plt.show()\n",
    "\n",
    "# Display your calculations\n",
    "print(\"Manual Confidence Interval Calculation:\")\n",
    "print(f\"t-value chosen: {t_value}\")\n",
    "print(\"Statistics by Transport Type:\")\n",
    "print(grouped_stats.round(3))"
   ]
  },
  {
   "cell_type": "markdown",
   "metadata": {},
   "source": [
    "## Resources 📚📚\n",
    "\n",
    "- Simple barplot of column means using seaborn  - [https://bit.ly/2JLmv1Sv](https://stackoverflow.com/questions/50337237/simple-barplot-of-column-means-using-seaborn)\n",
    "\n",
    "- pandas.DataFrame.plot - [https://bit.ly/30CAS](https://pandas.pydata.org/docs/reference/api/pandas.DataFrame.plot.html?highlight=plot#pandas.DataFrame.plot)\n",
    "\n",
    "- Add 95% confidence intervals as error bars to pandas bar plot - [https://bit.ly/30CSAq](https://stackoverflow.com/questions/56776919/add-95-confidence-intervals-as-error-bars-to-pandas-bar-plot)\n"
   ]
  }
 ],
 "metadata": {
  "colab": {
   "name": "S5-B -- Code - A/B Testing.ipynb",
   "provenance": [],
   "version": "0.3.2"
  },
  "kernelspec": {
   "display_name": "python-course",
   "language": "python",
   "name": "python3"
  },
  "language_info": {
   "codemirror_mode": {
    "name": "ipython",
    "version": 3
   },
   "file_extension": ".py",
   "mimetype": "text/x-python",
   "name": "python",
   "nbconvert_exporter": "python",
   "pygments_lexer": "ipython3",
   "version": "3.10.18"
  }
 },
 "nbformat": 4,
 "nbformat_minor": 4
}
